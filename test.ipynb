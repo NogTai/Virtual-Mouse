{
 "cells": [
  {
   "cell_type": "code",
   "execution_count": null,
   "metadata": {},
   "outputs": [],
   "source": []
  }
 ],
 "metadata": {
  "interpreter": {
   "hash": "8f25ca940508bcc63c79f90f14bb0d8e02c2d0098948de4c67a6fb56d0c74f25"
  },
  "kernelspec": {
   "display_name": "Python 3.8.5 ('gest')",
   "language": "python",
   "name": "python3"
  },
  "language_info": {
   "name": "python",
   "version": "3.8.5"
  },
  "orig_nbformat": 4
 },
 "nbformat": 4,
 "nbformat_minor": 2
}
